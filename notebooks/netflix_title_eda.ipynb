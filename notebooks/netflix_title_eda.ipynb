{
 "cells": [
  {
   "cell_type": "markdown",
   "metadata": {},
   "source": [
    "## Netfelx Titles (Movie and TV Show) Dataset"
   ]
  },
  {
   "cell_type": "code",
   "execution_count": null,
   "metadata": {},
   "outputs": [],
   "source": [
    "# necessary imports\n",
    "import git\n",
    "import matplotlib.pyplot as plt\n",
    "import numpy as np\n",
    "import pandas as pd\n",
    "import plotly.express as px\n",
    "import plotly.graph_objects as go\n",
    "import seaborn as sns"
   ]
  },
  {
   "cell_type": "code",
   "execution_count": null,
   "metadata": {},
   "outputs": [],
   "source": [
    "# load the data\n",
    "repo_path = git.Repo(\".\", search_parent_directories=True).working_tree_dir\n",
    "data_path = repo_path + \"/data/netflix_titles.csv\"\n",
    "\n",
    "df = pd.read_csv(data_path)\n",
    "df.head()"
   ]
  },
  {
   "cell_type": "markdown",
   "metadata": {},
   "source": [
    "### How does the number of titles change over the years?"
   ]
  },
  {
   "cell_type": "code",
   "execution_count": null,
   "metadata": {},
   "outputs": [],
   "source": [
    "# plot with plotly\n",
    "fig = px.histogram(df, x=\"release_year\", color=\"type\", barmode=\"group\")\n",
    "fig.show()"
   ]
  },
  {
   "cell_type": "markdown",
   "metadata": {},
   "source": [
    "### Busiest release months?"
   ]
  },
  {
   "cell_type": "code",
   "execution_count": null,
   "metadata": {},
   "outputs": [],
   "source": [
    "# find the busiest release months\n",
    "df[\"date_added\"] = pd.to_datetime(df[\"date_added\"], format=\"mixed\", errors=\"coerce\")\n",
    "df[\"month_added\"] = df[\"date_added\"].dt.month\n",
    "df[\"month_name_added\"] = df[\"date_added\"].dt.month_name()\n",
    "\n",
    "# plot with plotly\n",
    "fig = px.histogram(df, x=\"month_name_added\", color=\"type\", barmode=\"group\")\n",
    "fig.show()"
   ]
  },
  {
   "cell_type": "markdown",
   "metadata": {},
   "source": [
    "### Genres with the most titles?"
   ]
  },
  {
   "cell_type": "code",
   "execution_count": null,
   "metadata": {},
   "outputs": [],
   "source": [
    "df_genres = df[\"listed_in\"].str.split(\", \", expand=True).stack().value_counts()\n",
    "df_genres = pd.DataFrame(df_genres)\n",
    "df_genres.reset_index(inplace=True)\n",
    "df_genres.columns = [\"genre\", \"count\"]\n",
    "\n",
    "# plot with plotly\n",
    "fig = px.bar(df_genres, x=\"genre\", y=\"count\")\n",
    "fig.show()"
   ]
  },
  {
   "cell_type": "code",
   "execution_count": null,
   "metadata": {},
   "outputs": [],
   "source": [
    "# df['genres'] = df['listed_in'].str.split(', ')\n",
    "# # now we need to explode the genres column\n",
    "# df = df.explode('genres')\n",
    "\n",
    "# # plot with plotly, sort by value counts\n",
    "# fig = px.histogram(df, x='genres', color='type', barmode='group')\n",
    "# fig.show()"
   ]
  },
  {
   "cell_type": "code",
   "execution_count": null,
   "metadata": {},
   "outputs": [],
   "source": [
    "df.head(2)"
   ]
  },
  {
   "cell_type": "markdown",
   "metadata": {},
   "source": [
    "### Rating Analysis"
   ]
  },
  {
   "cell_type": "code",
   "execution_count": null,
   "metadata": {},
   "outputs": [],
   "source": [
    "# plot with plotly\n",
    "fig = px.histogram(df, x=\"rating\", barmode=\"group\")\n",
    "fig.show()"
   ]
  },
  {
   "cell_type": "code",
   "execution_count": null,
   "metadata": {},
   "outputs": [],
   "source": []
  }
 ],
 "metadata": {
  "kernelspec": {
   "display_name": "bbml",
   "language": "python",
   "name": "python3"
  },
  "language_info": {
   "codemirror_mode": {
    "name": "ipython",
    "version": 3
   },
   "file_extension": ".py",
   "mimetype": "text/x-python",
   "name": "python",
   "nbconvert_exporter": "python",
   "pygments_lexer": "ipython3",
   "version": "3.11.5"
  }
 },
 "nbformat": 4,
 "nbformat_minor": 2
}
